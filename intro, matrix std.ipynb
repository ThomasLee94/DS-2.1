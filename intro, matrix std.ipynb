{
 "cells": [
  {
   "cell_type": "code",
   "execution_count": 20,
   "metadata": {},
   "outputs": [
    {
     "name": "stdout",
     "output_type": "stream",
     "text": [
      "[998, 1497]\n"
     ]
    },
    {
     "data": {
      "text/plain": [
       "[[array([1000,    2]),\n",
       "  array([1000,    2]),\n",
       "  array([1500,    3]),\n",
       "  array([1500,    3])],\n",
       " [array([1000,    2]),\n",
       "  array([1000,    2]),\n",
       "  array([1500,    3]),\n",
       "  array([1500,    3])],\n",
       " [array([1000,    2]),\n",
       "  array([1000,    2]),\n",
       "  array([1500,    3]),\n",
       "  array([1500,    3])],\n",
       " [array([1000,    2]),\n",
       "  array([1000,    2]),\n",
       "  array([1500,    3]),\n",
       "  array([1500,    3])]]"
      ]
     },
     "execution_count": 20,
     "metadata": {},
     "output_type": "execute_result"
    }
   ],
   "source": [
    "# [\n",
    "#  [1000, 2],\n",
    "#  [1500, 3],\n",
    "# ]\n",
    "\n",
    "import numpy as np\n",
    "\n",
    "def matrix_std():\n",
    "    # numpy matrix representation   \n",
    "    matrix = np.array([[1000,2],[1500,3]])\n",
    "    \n",
    "    # max & min elements vertically\n",
    "    max_elements = list()\n",
    "    min_elements = list()\n",
    "    for column in matrix:\n",
    "        min_value = column[0]\n",
    "        max_value = column[0]\n",
    "        for item in column:\n",
    "            min_value = min(item, min_value)\n",
    "            max_value = max(item, max_value)\n",
    "        max_elements.append(max_value)\n",
    "        min_elements.append(min_value)\n",
    "    \n",
    "    # ranges\n",
    "    ranges = list()\n",
    "    for i in range(len(max_elements)):\n",
    "        ranges.append(max_elements[i]-min_elements[i])\n",
    "    print(ranges)\n",
    "    \n",
    "    # create matrix std\n",
    "    matrix_std = list()\n",
    "    col = list()\n",
    "    for i in range(len(matrix)):\n",
    "        for item in matrix:\n",
    "            std_item = matrix[i]-min_elements[i] // ranges[i]\n",
    "            col.append(std_item)\n",
    "            matrix_std.append(col)\n",
    "    \n",
    "    return matrix_std\n",
    "    \n",
    "matrix_std()"
   ]
  },
  {
   "cell_type": "code",
   "execution_count": 6,
   "metadata": {},
   "outputs": [
    {
     "ename": "NameError",
     "evalue": "name 'X_train' is not defined",
     "output_type": "error",
     "traceback": [
      "\u001b[0;31m---------------------------------------------------------------------------\u001b[0m",
      "\u001b[0;31mNameError\u001b[0m                                 Traceback (most recent call last)",
      "\u001b[0;32m<ipython-input-6-e0582e6b54b5>\u001b[0m in \u001b[0;36m<module>\u001b[0;34m\u001b[0m\n\u001b[1;32m      2\u001b[0m \u001b[0;34m\u001b[0m\u001b[0m\n\u001b[1;32m      3\u001b[0m \u001b[0mmin_max_scaler\u001b[0m \u001b[0;34m=\u001b[0m \u001b[0mpreprocessing\u001b[0m\u001b[0;34m.\u001b[0m\u001b[0mMinMaxScaler\u001b[0m\u001b[0;34m(\u001b[0m\u001b[0;34m)\u001b[0m\u001b[0;34m\u001b[0m\u001b[0;34m\u001b[0m\u001b[0m\n\u001b[0;32m----> 4\u001b[0;31m \u001b[0mX_minmax\u001b[0m \u001b[0;34m=\u001b[0m \u001b[0mmin_max_scaler\u001b[0m\u001b[0;34m.\u001b[0m\u001b[0mfit_transform\u001b[0m\u001b[0;34m(\u001b[0m\u001b[0mX_train\u001b[0m\u001b[0;34m)\u001b[0m\u001b[0;34m\u001b[0m\u001b[0;34m\u001b[0m\u001b[0m\n\u001b[0m\u001b[1;32m      5\u001b[0m \u001b[0mprint\u001b[0m\u001b[0;34m(\u001b[0m\u001b[0mX_minmax\u001b[0m\u001b[0;34m)\u001b[0m\u001b[0;34m\u001b[0m\u001b[0;34m\u001b[0m\u001b[0m\n",
      "\u001b[0;31mNameError\u001b[0m: name 'X_train' is not defined"
     ]
    }
   ],
   "source": [
    "from sklearn import preprocessing\n",
    "\n",
    "min_max_scaler = preprocessing.MinMaxScaler()\n",
    "X_minmax = min_max_scaler.fit_transform(X_train)\n",
    "print(X_minmax)"
   ]
  },
  {
   "cell_type": "code",
   "execution_count": null,
   "metadata": {},
   "outputs": [],
   "source": []
  }
 ],
 "metadata": {
  "kernelspec": {
   "display_name": "Python 3",
   "language": "python",
   "name": "python3"
  },
  "language_info": {
   "codemirror_mode": {
    "name": "ipython",
    "version": 3
   },
   "file_extension": ".py",
   "mimetype": "text/x-python",
   "name": "python",
   "nbconvert_exporter": "python",
   "pygments_lexer": "ipython3",
   "version": "3.7.3"
  }
 },
 "nbformat": 4,
 "nbformat_minor": 2
}
