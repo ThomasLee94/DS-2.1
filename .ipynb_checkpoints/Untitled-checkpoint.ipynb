{
 "cells": [
  {
   "cell_type": "code",
   "execution_count": 1,
   "metadata": {},
   "outputs": [
    {
     "ename": "SyntaxError",
     "evalue": "unexpected EOF while parsing (<ipython-input-1-21be237afe1e>, line 7)",
     "output_type": "error",
     "traceback": [
      "\u001b[0;36m  File \u001b[0;32m\"<ipython-input-1-21be237afe1e>\"\u001b[0;36m, line \u001b[0;32m7\u001b[0m\n\u001b[0;31m    for predicted_value, test_value in zip(predicted_vslues, test_values):\u001b[0m\n\u001b[0m                                                                          ^\u001b[0m\n\u001b[0;31mSyntaxError\u001b[0m\u001b[0;31m:\u001b[0m unexpected EOF while parsing\n"
     ]
    }
   ],
   "source": [
    "def predict(predicted_values, test_values):\n",
    "    actual_zero = 0\n",
    "    actual_one = 0\n",
    "    false_zero = 0\n",
    "    false_one = 0\n",
    "    \n",
    "    for predicted_value, test_value in zip(predicted_vslues, test_values):\n",
    "        if predicted_value and test_value == 0:\n",
    "            actual_zero += 1\n",
    "        elif predicted_value and test_value == 1:\n",
    "            actual_one += 1\n",
    "        elif predicted_value == 0 and test_value == 1:\n",
    "            false_zero += 1\n",
    "        elif predicted_value == 1 and test_value ==0:\n",
    "            false_one += 1\n",
    "    \n",
    "    return actual_zero, actual_one, false_zero, false_one"
   ]
  },
  {
   "cell_type": "code",
   "execution_count": null,
   "metadata": {},
   "outputs": [],
   "source": []
  }
 ],
 "metadata": {
  "kernelspec": {
   "display_name": "Python 3",
   "language": "python",
   "name": "python3"
  },
  "language_info": {
   "codemirror_mode": {
    "name": "ipython",
    "version": 3
   },
   "file_extension": ".py",
   "mimetype": "text/x-python",
   "name": "python",
   "nbconvert_exporter": "python",
   "pygments_lexer": "ipython3",
   "version": "3.7.3"
  }
 },
 "nbformat": 4,
 "nbformat_minor": 2
}
