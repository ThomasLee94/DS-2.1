{
 "cells": [
  {
   "cell_type": "code",
   "execution_count": 45,
   "metadata": {},
   "outputs": [
    {
     "name": "stdout",
     "output_type": "stream",
     "text": [
      "[1500, 3]\n",
      "[1000, 2]\n",
      "[array([1000, 1500]), array([2, 3])]\n",
      "[500, 1]\n"
     ]
    }
   ],
   "source": [
    "# [\n",
    "#  [1000, 2],\n",
    "#  [1500, 3],\n",
    "# ]\n",
    "\n",
    "import numpy as np\n",
    "\n",
    "def matrix_std(matrix):\n",
    "    \n",
    "    # columns     \n",
    "    columns = list()\n",
    "    for i in range(len(matrix)):\n",
    "        columns.append(matrix[:,i])\n",
    "    \n",
    "    # max & min\n",
    "    max_ = list()\n",
    "    min_ = list()\n",
    "    for column in columns:\n",
    "        max_.append(max(column))\n",
    "        min_.append(min(column))\n",
    "    \n",
    "    print(max_)\n",
    "    print(min_)\n",
    "    print(columns)\n",
    "    \n",
    "    # ranges\n",
    "    ranges = list()\n",
    "    for column in columns:\n",
    "        ranges.append(abs(column[0]-column[-1]))\n",
    "    \n",
    "    # create matrix std\n",
    "    matrix_std = list()\n",
    "    for i in range(len(matrix)):\n",
    "        pass\n",
    "        \n",
    "    \n",
    "#     # max & min elements vertically\n",
    "#     max_elements = list()\n",
    "#     min_elements = list()\n",
    "#     for column in matrix:\n",
    "#         min_value = column[0]\n",
    "#         max_value = column[0]\n",
    "#         for item in column:\n",
    "#             min_value = min(item, min_value)\n",
    "#             max_value = max(item, max_value)\n",
    "#         max_elements.append(max_value)\n",
    "#         min_elements.append(min_value)\n",
    "    \n",
    "#     # ranges\n",
    "#     ranges = list()\n",
    "#     for i in range(len(max_elements)):\n",
    "#         ranges.append(max_elements[i]-min_elements[i])\n",
    "    \n",
    "#     # create matrix std\n",
    "#     matrix_std = list()\n",
    "#     col = list()\n",
    "#     for i in range(len(matrix)):\n",
    "#         for item in matrix:\n",
    "#             std_item = matrix[i] - min_elements[i] // ranges[i]\n",
    "#             col.append(std_item)\n",
    "#             matrix_std.append(col)\n",
    "    \n",
    "#     return matrix_std\n",
    "    \n",
    "matrix_std(np.array([[1000,2],[1500,3]]))"
   ]
  },
  {
   "cell_type": "code",
   "execution_count": 24,
   "metadata": {},
   "outputs": [
    {
     "data": {
      "text/plain": [
       "[[1, 0], [1, 0]]"
      ]
     },
     "execution_count": 24,
     "metadata": {},
     "output_type": "execute_result"
    }
   ],
   "source": []
  },
  {
   "cell_type": "code",
   "execution_count": 27,
   "metadata": {},
   "outputs": [
    {
     "name": "stdout",
     "output_type": "stream",
     "text": [
      "[[0. 0.]\n",
      " [1. 1.]]\n"
     ]
    }
   ],
   "source": [
    "from sklearn import preprocessing\n",
    "\n",
    "X_train = np.array([[1000,2],[1500,3]])\n",
    "min_max_scaler = preprocessing.MinMaxScaler()\n",
    "X_minmax = min_max_scaler.fit_transform(X_train)\n"
   ]
  },
  {
   "cell_type": "code",
   "execution_count": 35,
   "metadata": {},
   "outputs": [
    {
     "name": "stdout",
     "output_type": "stream",
     "text": [
      "[[1 2]\n",
      " [3 7]\n",
      " [5 9]]\n",
      "[1 3 5]\n",
      "[1 2]\n"
     ]
    }
   ],
   "source": []
  },
  {
   "cell_type": "code",
   "execution_count": null,
   "metadata": {},
   "outputs": [],
   "source": [
    "# Columns and rows with numpy\n",
    "\n",
    "x = np.array([[1, 2],[3, 7],[5, 9]])\n",
    "print(x)\n",
    "# first column\n",
    "print(x[:,0])\n",
    "\n",
    "# first row\n",
    "print(x[0,:])"
   ]
  }
 ],
 "metadata": {
  "kernelspec": {
   "display_name": "Python 3",
   "language": "python",
   "name": "python3"
  },
  "language_info": {
   "codemirror_mode": {
    "name": "ipython",
    "version": 3
   },
   "file_extension": ".py",
   "mimetype": "text/x-python",
   "name": "python",
   "nbconvert_exporter": "python",
   "pygments_lexer": "ipython3",
   "version": "3.7.3"
  }
 },
 "nbformat": 4,
 "nbformat_minor": 2
}
