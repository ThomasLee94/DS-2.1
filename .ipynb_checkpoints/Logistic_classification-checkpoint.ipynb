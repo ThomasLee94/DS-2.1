{
 "cells": [
  {
   "cell_type": "code",
   "execution_count": 39,
   "metadata": {},
   "outputs": [],
   "source": [
    "# IMPORTS\n",
    "import pandas as pd\n",
    "import numpy as np\n",
    "import matplotlib.pyplot as plt\n",
    "%matplotlib inline\n",
    "import seaborn as sns\n",
    "from sklearn import datasets\n",
    "from sklearn.datasets import load_iris\n",
    "from sklearn.linear_model import LogisticRegression\n",
    "from sklearn.model_selection import train_test_split\n",
    "\n",
    "# IMPORTED DATASET\n",
    "iris_data = load_iris()"
   ]
  },
  {
   "cell_type": "markdown",
   "metadata": {},
   "source": [
    "## Logistic regression is a type of regression model.\n",
    "    - Regression models attempt to fit data as best it can to a single function\n",
    "    - It extrapolates a mathematical pattern\n",
    "    - A logistic model extends into a *classifier*, meaning that now the logistic function can be used to classify continuous values into discretised categories."
   ]
  },
  {
   "cell_type": "code",
   "execution_count": 48,
   "metadata": {},
   "outputs": [
    {
     "data": {
      "text/html": [
       "<div>\n",
       "<style scoped>\n",
       "    .dataframe tbody tr th:only-of-type {\n",
       "        vertical-align: middle;\n",
       "    }\n",
       "\n",
       "    .dataframe tbody tr th {\n",
       "        vertical-align: top;\n",
       "    }\n",
       "\n",
       "    .dataframe thead th {\n",
       "        text-align: right;\n",
       "    }\n",
       "</style>\n",
       "<table border=\"1\" class=\"dataframe\">\n",
       "  <thead>\n",
       "    <tr style=\"text-align: right;\">\n",
       "      <th></th>\n",
       "      <th>sepal length (cm)</th>\n",
       "      <th>sepal width (cm)</th>\n",
       "      <th>petal length (cm)</th>\n",
       "      <th>petal width (cm)</th>\n",
       "    </tr>\n",
       "  </thead>\n",
       "  <tbody>\n",
       "    <tr>\n",
       "      <th>0</th>\n",
       "      <td>5.1</td>\n",
       "      <td>3.5</td>\n",
       "      <td>1.4</td>\n",
       "      <td>0.2</td>\n",
       "    </tr>\n",
       "    <tr>\n",
       "      <th>1</th>\n",
       "      <td>4.9</td>\n",
       "      <td>3.0</td>\n",
       "      <td>1.4</td>\n",
       "      <td>0.2</td>\n",
       "    </tr>\n",
       "    <tr>\n",
       "      <th>2</th>\n",
       "      <td>4.7</td>\n",
       "      <td>3.2</td>\n",
       "      <td>1.3</td>\n",
       "      <td>0.2</td>\n",
       "    </tr>\n",
       "    <tr>\n",
       "      <th>3</th>\n",
       "      <td>4.6</td>\n",
       "      <td>3.1</td>\n",
       "      <td>1.5</td>\n",
       "      <td>0.2</td>\n",
       "    </tr>\n",
       "    <tr>\n",
       "      <th>4</th>\n",
       "      <td>5.0</td>\n",
       "      <td>3.6</td>\n",
       "      <td>1.4</td>\n",
       "      <td>0.2</td>\n",
       "    </tr>\n",
       "  </tbody>\n",
       "</table>\n",
       "</div>"
      ],
      "text/plain": [
       "   sepal length (cm)  sepal width (cm)  petal length (cm)  petal width (cm)\n",
       "0                5.1               3.5                1.4               0.2\n",
       "1                4.9               3.0                1.4               0.2\n",
       "2                4.7               3.2                1.3               0.2\n",
       "3                4.6               3.1                1.5               0.2\n",
       "4                5.0               3.6                1.4               0.2"
      ]
     },
     "execution_count": 48,
     "metadata": {},
     "output_type": "execute_result"
    }
   ],
   "source": [
    "# DATAFRAMES\n",
    "df_iris = pd.DataFrame(data=iris_data.data, columns=iris_data.feature_names)\n",
    "df_iris_feat = pd.DataFrame(data=iris_data.target, columns=[\"iris_type\"])\n",
    "df_iris.head()"
   ]
  },
  {
   "cell_type": "code",
   "execution_count": 49,
   "metadata": {},
   "outputs": [],
   "source": [
    "iris_train, iris_test, feat_train, feat_test = train_test_split(df_iris, df_iris_feat, random_state=0)\n",
    "feat_train, feat_test = np.ravel(feat_train), np.ravel(feat_test)"
   ]
  },
  {
   "cell_type": "code",
   "execution_count": 50,
   "metadata": {},
   "outputs": [
    {
     "name": "stderr",
     "output_type": "stream",
     "text": [
      "/anaconda3/lib/python3.7/site-packages/sklearn/linear_model/logistic.py:947: ConvergenceWarning: lbfgs failed to converge. Increase the number of iterations.\n",
      "  \"of iterations.\", ConvergenceWarning)\n"
     ]
    },
    {
     "data": {
      "text/plain": [
       "LogisticRegression(C=1.0, class_weight=None, dual=False, fit_intercept=True,\n",
       "                   intercept_scaling=1, l1_ratio=None, max_iter=100,\n",
       "                   multi_class='multinomial', n_jobs=None, penalty='l2',\n",
       "                   random_state=0, solver='lbfgs', tol=0.0001, verbose=0,\n",
       "                   warm_start=False)"
      ]
     },
     "execution_count": 50,
     "metadata": {},
     "output_type": "execute_result"
    }
   ],
   "source": [
    "logreg = LogisticRegression(random_state=0, solver=\"lbfgs\", multi_class=\"multinomial\")\n",
    "logreg.fit(iris_train, feat_train)"
   ]
  },
  {
   "cell_type": "code",
   "execution_count": 51,
   "metadata": {},
   "outputs": [],
   "source": [
    "feat_pred = logreg.predict(iris_test)"
   ]
  },
  {
   "cell_type": "code",
   "execution_count": 52,
   "metadata": {},
   "outputs": [
    {
     "data": {
      "text/plain": [
       "array([[1.17924703e-04, 5.61479667e-02, 9.43734109e-01],\n",
       "       [1.26288661e-02, 9.60454922e-01, 2.69162124e-02],\n",
       "       [9.84397680e-01, 1.56022816e-02, 3.85650267e-08],\n",
       "       [1.25180832e-06, 2.31530394e-02, 9.76845709e-01],\n",
       "       [9.70234755e-01, 2.97650820e-02, 1.62609745e-07],\n",
       "       [2.01669798e-06, 5.94453033e-03, 9.94053453e-01],\n",
       "       [9.81899481e-01, 1.81004487e-02, 7.04478339e-08],\n",
       "       [2.84241427e-03, 7.47089885e-01, 2.50067701e-01],\n",
       "       [1.50915665e-03, 7.38524267e-01, 2.59966577e-01],\n",
       "       [2.05287874e-02, 9.35891198e-01, 4.35800150e-02],\n",
       "       [9.22436289e-05, 1.59475749e-01, 8.40432007e-01],\n",
       "       [6.98627957e-03, 8.09989247e-01, 1.83024474e-01],\n",
       "       [4.08220400e-03, 7.93602802e-01, 2.02314994e-01],\n",
       "       [3.05681845e-03, 7.60910824e-01, 2.36032358e-01],\n",
       "       [3.87699846e-03, 7.10277106e-01, 2.85845895e-01],\n",
       "       [9.82815573e-01, 1.71843701e-02, 5.65491187e-08],\n",
       "       [6.72901329e-03, 7.56465383e-01, 2.36805604e-01],\n",
       "       [1.14291723e-02, 8.45111094e-01, 1.43459734e-01],\n",
       "       [9.67582059e-01, 3.24177265e-02, 2.14247098e-07],\n",
       "       [9.82872119e-01, 1.71278214e-02, 5.96916585e-08],\n",
       "       [8.34498625e-04, 1.93259944e-01, 8.05905557e-01],\n",
       "       [1.03255850e-02, 7.11146975e-01, 2.78527440e-01],\n",
       "       [9.44128789e-01, 5.58701622e-02, 1.04843253e-06],\n",
       "       [9.75498454e-01, 2.45013784e-02, 1.67528701e-07],\n",
       "       [1.36907647e-03, 4.26372101e-01, 5.72258822e-01],\n",
       "       [9.94203363e-01, 5.79662703e-03, 9.65350921e-09],\n",
       "       [9.50240553e-01, 4.97583147e-02, 1.13246715e-06],\n",
       "       [1.07122576e-02, 9.00994901e-01, 8.82928415e-02],\n",
       "       [1.40884689e-01, 8.52874363e-01, 6.24094861e-03],\n",
       "       [9.61491946e-01, 3.85076049e-02, 4.49537354e-07],\n",
       "       [9.90734933e-05, 1.15644583e-01, 8.84256343e-01],\n",
       "       [1.19870174e-02, 6.84359055e-01, 3.03653928e-01],\n",
       "       [9.68058424e-01, 3.19414261e-02, 1.50155312e-07],\n",
       "       [1.28526462e-03, 3.57780449e-01, 6.40934287e-01],\n",
       "       [1.48836451e-05, 3.38274124e-02, 9.66157704e-01],\n",
       "       [4.81304832e-02, 8.80739359e-01, 7.11301583e-02],\n",
       "       [9.44629255e-01, 5.53703539e-02, 3.91145203e-07],\n",
       "       [6.02626586e-04, 3.11033047e-01, 6.88364327e-01]])"
      ]
     },
     "execution_count": 52,
     "metadata": {},
     "output_type": "execute_result"
    }
   ],
   "source": [
    "logreg.predict_proba(iris_test)"
   ]
  },
  {
   "cell_type": "code",
   "execution_count": 53,
   "metadata": {},
   "outputs": [
    {
     "data": {
      "text/plain": [
       "0.9736842105263158"
      ]
     },
     "execution_count": 53,
     "metadata": {},
     "output_type": "execute_result"
    }
   ],
   "source": [
    "logreg.score(iris_test, feat_test)"
   ]
  }
 ],
 "metadata": {
  "kernelspec": {
   "display_name": "Python 3",
   "language": "python",
   "name": "python3"
  },
  "language_info": {
   "codemirror_mode": {
    "name": "ipython",
    "version": 3
   },
   "file_extension": ".py",
   "mimetype": "text/x-python",
   "name": "python",
   "nbconvert_exporter": "python",
   "pygments_lexer": "ipython3",
   "version": "3.7.3"
  }
 },
 "nbformat": 4,
 "nbformat_minor": 2
}
